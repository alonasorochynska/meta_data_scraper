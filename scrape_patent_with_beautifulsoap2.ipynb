{
 "cells": [
  {
   "cell_type": "markdown",
   "metadata": {},
   "source": [
    "#### Extracting data from the file"
   ]
  },
  {
   "cell_type": "code",
   "execution_count": 1,
   "metadata": {},
   "outputs": [],
   "source": [
    "import pandas as pd\n",
    "from bs4 import BeautifulSoup\n",
    "import requests"
   ]
  },
  {
   "cell_type": "code",
   "execution_count": 2,
   "metadata": {},
   "outputs": [],
   "source": [
    "data = pd.read_csv(r\"C:\\Users\\Multimedia\\Desktop\\ABBRA\\Work in Progress\\Patents\\Google Sentiment\\data\\cannabidiol_urls.csv\")"
   ]
  },
  {
   "cell_type": "code",
   "execution_count": 3,
   "metadata": {},
   "outputs": [
    {
     "data": {
      "text/plain": [
       "(15708, 1)"
      ]
     },
     "execution_count": 3,
     "metadata": {},
     "output_type": "execute_result"
    }
   ],
   "source": [
    "data.shape"
   ]
  },
  {
   "cell_type": "code",
   "execution_count": 4,
   "metadata": {},
   "outputs": [
    {
     "data": {
      "text/html": [
       "<div>\n",
       "<style scoped>\n",
       "    .dataframe tbody tr th:only-of-type {\n",
       "        vertical-align: middle;\n",
       "    }\n",
       "\n",
       "    .dataframe tbody tr th {\n",
       "        vertical-align: top;\n",
       "    }\n",
       "\n",
       "    .dataframe thead th {\n",
       "        text-align: right;\n",
       "    }\n",
       "</style>\n",
       "<table border=\"1\" class=\"dataframe\">\n",
       "  <thead>\n",
       "    <tr style=\"text-align: right;\">\n",
       "      <th></th>\n",
       "      <th>url</th>\n",
       "    </tr>\n",
       "  </thead>\n",
       "  <tbody>\n",
       "    <tr>\n",
       "      <th>0</th>\n",
       "      <td>https://patents.google.com/patent/DE1020121050...</td>\n",
       "    </tr>\n",
       "    <tr>\n",
       "      <th>1</th>\n",
       "      <td>https://patents.google.com/patent/US2015018192...</td>\n",
       "    </tr>\n",
       "  </tbody>\n",
       "</table>\n",
       "</div>"
      ],
      "text/plain": [
       "                                                 url\n",
       "0  https://patents.google.com/patent/DE1020121050...\n",
       "1  https://patents.google.com/patent/US2015018192..."
      ]
     },
     "execution_count": 4,
     "metadata": {},
     "output_type": "execute_result"
    }
   ],
   "source": [
    "data.head(2)"
   ]
  },
  {
   "cell_type": "markdown",
   "metadata": {},
   "source": [
    "### Preparing 'en' links"
   ]
  },
  {
   "cell_type": "code",
   "execution_count": 5,
   "metadata": {},
   "outputs": [],
   "source": [
    "urls_orig = list(data[\"url\"][:1000])"
   ]
  },
  {
   "cell_type": "code",
   "execution_count": 6,
   "metadata": {},
   "outputs": [],
   "source": [
    "urls = [i[:-2] + 'en' for i in urls_orig]"
   ]
  },
  {
   "cell_type": "markdown",
   "metadata": {},
   "source": [
    "#### Next code will take some time.."
   ]
  },
  {
   "cell_type": "code",
   "execution_count": 7,
   "metadata": {},
   "outputs": [],
   "source": [
    "reqw = [requests.get(i) for i in urls]"
   ]
  },
  {
   "cell_type": "code",
   "execution_count": 8,
   "metadata": {},
   "outputs": [],
   "source": [
    "soups = [BeautifulSoup(i.content, 'html.parser') for i in reqw]"
   ]
  },
  {
   "cell_type": "code",
   "execution_count": 9,
   "metadata": {},
   "outputs": [],
   "source": [
    "#result = [i.prettify() for i in soups]"
   ]
  },
  {
   "cell_type": "code",
   "execution_count": 11,
   "metadata": {},
   "outputs": [],
   "source": [
    "ds = pd.DataFrame()"
   ]
  },
  {
   "cell_type": "code",
   "execution_count": 12,
   "metadata": {},
   "outputs": [],
   "source": [
    "ds['url_orig'] = urls_orig\n",
    "ds['url'] = urls\n",
    "ds[\"bs4\"] = [i for i in soups]"
   ]
  },
  {
   "cell_type": "code",
   "execution_count": 13,
   "metadata": {},
   "outputs": [
    {
     "data": {
      "text/plain": [
       "(1000, 3)"
      ]
     },
     "execution_count": 13,
     "metadata": {},
     "output_type": "execute_result"
    }
   ],
   "source": [
    "ds.shape"
   ]
  },
  {
   "cell_type": "code",
   "execution_count": 14,
   "metadata": {},
   "outputs": [
    {
     "data": {
      "text/html": [
       "<div>\n",
       "<style scoped>\n",
       "    .dataframe tbody tr th:only-of-type {\n",
       "        vertical-align: middle;\n",
       "    }\n",
       "\n",
       "    .dataframe tbody tr th {\n",
       "        vertical-align: top;\n",
       "    }\n",
       "\n",
       "    .dataframe thead th {\n",
       "        text-align: right;\n",
       "    }\n",
       "</style>\n",
       "<table border=\"1\" class=\"dataframe\">\n",
       "  <thead>\n",
       "    <tr style=\"text-align: right;\">\n",
       "      <th></th>\n",
       "      <th>url_orig</th>\n",
       "      <th>url</th>\n",
       "      <th>bs4</th>\n",
       "    </tr>\n",
       "  </thead>\n",
       "  <tbody>\n",
       "    <tr>\n",
       "      <th>0</th>\n",
       "      <td>https://patents.google.com/patent/DE1020121050...</td>\n",
       "      <td>https://patents.google.com/patent/DE1020121050...</td>\n",
       "      <td>[html, \\n, [\\n, [\\n, &lt;title&gt;DE102012105063A1 -...</td>\n",
       "    </tr>\n",
       "    <tr>\n",
       "      <th>1</th>\n",
       "      <td>https://patents.google.com/patent/US2015018192...</td>\n",
       "      <td>https://patents.google.com/patent/US2015018192...</td>\n",
       "      <td>[html, \\n, [\\n, [\\n, &lt;title&gt;US20150181924A1 - ...</td>\n",
       "    </tr>\n",
       "    <tr>\n",
       "      <th>2</th>\n",
       "      <td>https://patents.google.com/patent/WO2014093127...</td>\n",
       "      <td>https://patents.google.com/patent/WO2014093127...</td>\n",
       "      <td>[html, \\n, [\\n, [\\n, &lt;title&gt;WO2014093127A2 - E...</td>\n",
       "    </tr>\n",
       "    <tr>\n",
       "      <th>3</th>\n",
       "      <td>https://patents.google.com/patent/JP2020037596...</td>\n",
       "      <td>https://patents.google.com/patent/JP2020037596...</td>\n",
       "      <td>[html, \\n, [\\n, [\\n, &lt;title&gt;JP2020037596A - Pr...</td>\n",
       "    </tr>\n",
       "    <tr>\n",
       "      <th>4</th>\n",
       "      <td>https://patents.google.com/patent/EP2286793A2/en</td>\n",
       "      <td>https://patents.google.com/patent/EP2286793A2/en</td>\n",
       "      <td>[html, \\n, [\\n, [\\n, &lt;title&gt;EP2286793A2 - Phar...</td>\n",
       "    </tr>\n",
       "  </tbody>\n",
       "</table>\n",
       "</div>"
      ],
      "text/plain": [
       "                                            url_orig  \\\n",
       "0  https://patents.google.com/patent/DE1020121050...   \n",
       "1  https://patents.google.com/patent/US2015018192...   \n",
       "2  https://patents.google.com/patent/WO2014093127...   \n",
       "3  https://patents.google.com/patent/JP2020037596...   \n",
       "4   https://patents.google.com/patent/EP2286793A2/en   \n",
       "\n",
       "                                                 url  \\\n",
       "0  https://patents.google.com/patent/DE1020121050...   \n",
       "1  https://patents.google.com/patent/US2015018192...   \n",
       "2  https://patents.google.com/patent/WO2014093127...   \n",
       "3  https://patents.google.com/patent/JP2020037596...   \n",
       "4   https://patents.google.com/patent/EP2286793A2/en   \n",
       "\n",
       "                                                 bs4  \n",
       "0  [html, \\n, [\\n, [\\n, <title>DE102012105063A1 -...  \n",
       "1  [html, \\n, [\\n, [\\n, <title>US20150181924A1 - ...  \n",
       "2  [html, \\n, [\\n, [\\n, <title>WO2014093127A2 - E...  \n",
       "3  [html, \\n, [\\n, [\\n, <title>JP2020037596A - Pr...  \n",
       "4  [html, \\n, [\\n, [\\n, <title>EP2286793A2 - Phar...  "
      ]
     },
     "execution_count": 14,
     "metadata": {},
     "output_type": "execute_result"
    }
   ],
   "source": [
    "ds.head()"
   ]
  },
  {
   "cell_type": "code",
   "execution_count": 15,
   "metadata": {},
   "outputs": [],
   "source": [
    "ds.to_csv('BeautifulSoup1.csv')"
   ]
  }
 ],
 "metadata": {
  "kernelspec": {
   "display_name": "Python 3",
   "language": "python",
   "name": "python3"
  },
  "language_info": {
   "codemirror_mode": {
    "name": "ipython",
    "version": 3
   },
   "file_extension": ".py",
   "mimetype": "text/x-python",
   "name": "python",
   "nbconvert_exporter": "python",
   "pygments_lexer": "ipython3",
   "version": "3.8.3"
  }
 },
 "nbformat": 4,
 "nbformat_minor": 4
}
